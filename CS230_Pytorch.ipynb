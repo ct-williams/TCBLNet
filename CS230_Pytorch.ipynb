{
  "nbformat": 4,
  "nbformat_minor": 0,
  "metadata": {
    "colab": {
      "name": "CS230_Pytorch.ipynb",
      "provenance": [],
      "collapsed_sections": [],
      "include_colab_link": true
    },
    "kernelspec": {
      "name": "python3",
      "display_name": "Python 3"
    },
    "language_info": {
      "name": "python"
    },
    "accelerator": "GPU"
  },
  "cells": [
    {
      "cell_type": "markdown",
      "metadata": {
        "id": "view-in-github",
        "colab_type": "text"
      },
      "source": [
        "<a href=\"https://colab.research.google.com/github/ct-williams/TCBLNet/blob/main/CS230_Pytorch.ipynb\" target=\"_parent\"><img src=\"https://colab.research.google.com/assets/colab-badge.svg\" alt=\"Open In Colab\"/></a>"
      ]
    },
    {
      "cell_type": "code",
      "execution_count": 2,
      "metadata": {
        "id": "ETSfuNDc1WL1"
      },
      "outputs": [],
      "source": [
        "import torch\n",
        "import torch.nn as nn\n",
        "import numpy as np\n",
        "import h5py"
      ]
    },
    {
      "cell_type": "code",
      "source": [
        "# Load Data\n",
        "from google.colab import drive\n",
        "drive.mount('/content/drive')\n"
      ],
      "metadata": {
        "colab": {
          "base_uri": "https://localhost:8080/"
        },
        "id": "GZv6xhCD62T0",
        "outputId": "f036ef6d-00cf-41ad-d72d-274282e15658"
      },
      "execution_count": 3,
      "outputs": [
        {
          "output_type": "stream",
          "name": "stdout",
          "text": [
            "Mounted at /content/drive\n"
          ]
        }
      ]
    },
    {
      "cell_type": "code",
      "source": [
        "# Deep Learning Approach\n",
        "\n",
        "  # Standard Layer Definition\n",
        "class StandardLayer(nn.Module):\n",
        "  def __init__(self, n_input_features, n_output_features):\n",
        "    super(StandardLayer, self).__init__()\n",
        "    self.lin = nn.Linear(n_input_features, n_output_features)\n",
        "    self.LRelu = nn.LeakyReLU(0.01)\n",
        "\n",
        "  def forward(self, x):\n",
        "    y_hat = self.LRelu(self.lin(x))\n",
        "    return y_hat\n",
        "\n",
        "# Model Definition\n",
        "Model = nn.Sequential(StandardLayer(240,64), # Layer 1\n",
        "                      StandardLayer(64,32),  # Layer 2\n",
        "                      StandardLayer(32,32),  # Layer 2\n",
        "                      StandardLayer(32,16),  # Layer 3\n",
        "                      StandardLayer(16,16),  # Layer 4\n",
        "                      StandardLayer(16,8),   # Layer 5\n",
        "                      StandardLayer(8,8),    # Layer 6\n",
        "                      nn.Linear(8, 2))       # Layer 7 - Output Layer\n",
        "Model.double()\n",
        "\n",
        "# Loss Function \n",
        "LossFunction = nn.MSELoss()\n",
        "\n",
        "# Optimizer \n",
        "Optimizer = torch.optim.Adam(Model.parameters(), lr=0.001, betas=(0.9, 0.999), eps=1e-08, weight_decay=0.00)"
      ],
      "metadata": {
        "id": "4DMP2G-d7Taq"
      },
      "execution_count": 4,
      "outputs": []
    },
    {
      "cell_type": "code",
      "source": [
        "# Training\n",
        "num_epochs = 700\n",
        "num_batches = 180\n",
        "train_dir = \"/content/drive/MyDrive/Colab Notebooks/training_data/train/\"\n",
        "\n",
        "for epoch in range(num_epochs):\n",
        "  with torch.no_grad():\n",
        "     norm_error = 0\n",
        "  for batch in range(1, num_batches+1): \n",
        "     # Load data from batch (i) \n",
        "     filename = train_dir+\"batch_\"+ str(batch).zfill(5) + \".hdf\"\n",
        "     f = h5py.File(filename, 'r')\n",
        "     data = np.transpose(f['data'])\n",
        "     Y = data[:,0:2]\n",
        "     X = data[:,2:]\n",
        "     # Convert numpy arrays into tensors\n",
        "     inputs = torch.from_numpy(X)\n",
        "     labels = torch.from_numpy(Y)\n",
        "     # Forward propagation\n",
        "     predictions = Model(inputs)\n",
        "     cost = LossFunction(predictions, labels)\n",
        "     # Backward propagation\n",
        "     Optimizer.zero_grad()\n",
        "     cost.backward()\n",
        "     Optimizer.step()\n",
        "     with torch.no_grad():\n",
        "       norm_error += cost.item()\n",
        "  if (epoch)%50 == 0:\n",
        "     print('epoch = ',{epoch},'cost = ', {norm_error/(num_batches)})"
      ],
      "metadata": {
        "colab": {
          "base_uri": "https://localhost:8080/"
        },
        "id": "I-NHJtdgjtOH",
        "outputId": "0b3dcf73-08ae-4df7-a3e5-d5a9b7cbd49c"
      },
      "execution_count": 5,
      "outputs": [
        {
          "output_type": "stream",
          "name": "stdout",
          "text": [
            "epoch =  {0} cost =  {1099.9033682935615}\n",
            "epoch =  {50} cost =  {9.283237029143887}\n",
            "epoch =  {100} cost =  {8.195713338555537}\n",
            "epoch =  {150} cost =  {7.375476300758432}\n",
            "epoch =  {200} cost =  {6.7086833192371085}\n",
            "epoch =  {250} cost =  {6.1560239702626}\n",
            "epoch =  {300} cost =  {5.817284050632982}\n",
            "epoch =  {350} cost =  {5.58327431916317}\n",
            "epoch =  {400} cost =  {5.349562803741289}\n",
            "epoch =  {450} cost =  {5.133298143457496}\n",
            "epoch =  {500} cost =  {5.032108134365417}\n",
            "epoch =  {550} cost =  {4.859576871099943}\n",
            "epoch =  {600} cost =  {4.777270604471077}\n",
            "epoch =  {650} cost =  {4.71514349909412}\n"
          ]
        }
      ]
    },
    {
      "cell_type": "code",
      "source": [
        "# Evaluation of Model on Dev Data\n",
        "num_dev_batches = 90\n",
        "num_batch = 256;\n",
        "dev_dir = \"/content/drive/MyDrive/Colab Notebooks/training_data/dev-test/\"\n",
        "with torch.no_grad():\n",
        "   norm_error = 0\n",
        "   for j in range(1, num_dev_batches+1):\n",
        "      # Load test data from batch (i) into numpy here\n",
        "      filename = dev_dir+\"batch_\"+ str(j).zfill(5) + \".hdf\"\n",
        "      f = h5py.File(filename, 'r')\n",
        "      data = np.transpose(f['data'])\n",
        "      Y_dev_np = data[:,0:2]\n",
        "      X_dev_np = data[:,2:]\n",
        "      X_dev = torch.from_numpy(X_dev_np)\n",
        "      Y_dev = torch.from_numpy(Y_dev_np)\n",
        "      Y_dev_prediction = Model(X_dev)\n",
        "      norm_error += torch.norm(Y_dev-Y_dev_prediction)/(torch.norm(Y_dev))\n",
        "      norm_error /= (num_dev_batches*num_batch)\n",
        "print(\"Dev error: \", norm_error.item())"
      ],
      "metadata": {
        "id": "8HsTMMkvFdOR",
        "colab": {
          "base_uri": "https://localhost:8080/"
        },
        "outputId": "75fdfd0a-354a-4372-d52c-0da4bf043294"
      },
      "execution_count": 7,
      "outputs": [
        {
          "output_type": "stream",
          "name": "stdout",
          "text": [
            "Dev error:  4.061973760410526e-06\n"
          ]
        }
      ]
    },
    {
      "cell_type": "code",
      "source": [
        "# Evaluation of Model on Test Data\n",
        "test_dir = \"/content/drive/MyDrive/Colab Notebooks/training_data/dev-test/\"\n",
        "with torch.no_grad():\n",
        "   norm_error = 0\n",
        "   for j in range(91, 180):\n",
        "      # Load test data from batch (i) into numpy here\n",
        "      filename = test_dir+\"batch_\"+ str(j).zfill(5) + \".hdf\"\n",
        "      f = h5py.File(filename, 'r')\n",
        "      data = np.transpose(f['data'])\n",
        "      Y_test_np = data[:,0:2]\n",
        "      X_test_np = data[:,2:]\n",
        "      X_test = torch.from_numpy(X_test_np)\n",
        "      Y_test = torch.from_numpy(Y_test_np)\n",
        "      Y_test_prediction = Model(X_test)\n",
        "      norm_error += torch.norm(Y_test-Y_test_prediction)/(torch.norm(Y_test))\n",
        "      norm_error /= (num_dev_batches*num_batch)\n",
        "print(\"Test error: \", norm_error.item())"
      ],
      "metadata": {
        "id": "HMAyZ-EMjyZf",
        "colab": {
          "base_uri": "https://localhost:8080/"
        },
        "outputId": "4741ae94-07a8-4f6e-ea3d-ae5488a5c616"
      },
      "execution_count": 8,
      "outputs": [
        {
          "output_type": "stream",
          "name": "stdout",
          "text": [
            "Test error:  6.895311220939579e-06\n"
          ]
        }
      ]
    },
    {
      "cell_type": "code",
      "source": [
        "# TO DO: Save model"
      ],
      "metadata": {
        "id": "SJQeBS0d7Y1-"
      },
      "execution_count": 6,
      "outputs": []
    }
  ]
}